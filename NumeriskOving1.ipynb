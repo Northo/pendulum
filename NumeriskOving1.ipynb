{
 "cells": [
  {
   "cell_type": "markdown",
   "metadata": {},
   "source": [
    "# Computational assignment 1"
   ]
  },
  {
   "cell_type": "code",
   "execution_count": null,
   "metadata": {},
   "outputs": [],
   "source": [
    "import numpy as np\n",
    "import matplotlib.pyplot as plt"
   ]
  },
  {
   "cell_type": "code",
   "execution_count": null,
   "metadata": {},
   "outputs": [],
   "source": [
    "from matplotlib import rc\n",
    "# Set common figure parameters:\n",
    "newparams = {'axes.labelsize': 11, 'axes.linewidth': 1, 'savefig.dpi': 300, \n",
    "             'lines.linewidth': 1.0, 'figure.figsize': (20, 10),\n",
    "             'ytick.labelsize': 10, 'xtick.labelsize': 10,\n",
    "             'ytick.major.pad': 5, 'xtick.major.pad': 5,}\n",
    "plt.rcParams.update(newparams)"
   ]
  },
  {
   "cell_type": "code",
   "execution_count": null,
   "metadata": {},
   "outputs": [],
   "source": [
    "# Setup\n",
    "m = 1 #kg\n",
    "R = 1 #m\n",
    "g = 9.81 #m/s^2\n",
    "\n",
    "theta_0 = 0.2 # rad, inital angle\n",
    "omega_0 = 0.0 # rad/s, inital angular velocity\n",
    "\n",
    "end_time = 7 # s, the time at which the simulation will end"
   ]
  },
  {
   "cell_type": "markdown",
   "metadata": {},
   "source": [
    "The problem consists of two first-order differential equations:\n",
    "$$\n",
    "\\dot{\\theta} = \\omega\\\\\n",
    "\\dot{\\omega} = \\frac{F_{\\perp}}{mR}.\n",
    "$$\n",
    "\n",
    "Let \n",
    "$$\n",
    "y = \n",
    "\\begin{bmatrix}\n",
    "\\theta\\\\\n",
    "\\omega\n",
    "\\end{bmatrix},\n",
    "$$\n",
    "then\n",
    "$$\n",
    "y' = \n",
    "\\begin{bmatrix}\n",
    "y_2\\\\\n",
    "-\\sin(y_1) / mR\n",
    "\\end{bmatrix}\n",
    "= f(y).\n",
    "$$\n",
    "\n",
    "We will do the euler step:\n",
    "$$\n",
    "y(t+dt) = y(t) + f(y(t)) dt\n",
    "$$"
   ]
  },
  {
   "cell_type": "code",
   "execution_count": null,
   "metadata": {},
   "outputs": [],
   "source": [
    "def f(y):\n",
    "    \"\"\"f(y) = y'  \"\"\"\n",
    "    return np.array([y[1], -g*np.sin(y[0])/R])"
   ]
  },
  {
   "cell_type": "code",
   "execution_count": null,
   "metadata": {},
   "outputs": [],
   "source": [
    "def euler_step(y, f, dt):\n",
    "    \"\"\"Returns an euler-approximation of y(t+dt) given y(t)\"\"\"\n",
    "    return y + f(y)*dt"
   ]
  },
  {
   "cell_type": "code",
   "execution_count": null,
   "metadata": {},
   "outputs": [],
   "source": [
    "def euler_solve(y, f, dt, num_iterations):\n",
    "    \"\"\"Euler's method\"\"\"\n",
    "    for i in range(num_iterations - 1):\n",
    "        y[i+1] = euler_step(y[i], f, dt)\n",
    "    return y\n",
    "\n",
    "def euler_cromer_solve(y, f, dt, num_iterations):\n",
    "    \"\"\"Euler-Cromer's method\"\"\"\n",
    "    for i in range(num_iterations - 1):\n",
    "        theta, omega = euler_step(y[i], f, dt)\n",
    "        theta = y[i,0] + omega*dt\n",
    "        y[i+1] = np.array([theta, omega])\n",
    "    return y\n",
    "\n",
    "def rk4_solve(y, f, dt, num_iterations):\n",
    "    \"\"\"Runge-Kutta 4\"\"\"\n",
    "    for i in range(num_iterations - 1):\n",
    "        k_1 = f(y[i])*dt\n",
    "        k_2 = f(y[i] + k_1/2)*dt\n",
    "        k_3 = f(y[i] + k_2/2)*dt\n",
    "        k_4 = f(y[i] + k_3)*dt\n",
    "        y[i+1] = y[i] + (k_1 + 2*k_2 + 2*k_3 + k_4)/6\n",
    "    return y"
   ]
  },
  {
   "cell_type": "code",
   "execution_count": null,
   "metadata": {},
   "outputs": [],
   "source": [
    "def kinetic_energy(omega):\n",
    "    return 0.5*m*R**2*omega**2\n",
    "\n",
    "def potential_energy(theta):\n",
    "    return m*g*R*(1-np.cos(theta))\n",
    "\n",
    "def total_energy(y1, y2):\n",
    "    return kinetic_energy(y2) + potential_energy(y1)\n",
    "\n",
    "def plt_method_energy(t, theta, omega, name):\n",
    "    plt.plot(t, potential_energy(theta), label=f\"{name} potential\")\n",
    "    plt.plot(t, kinetic_energy(theta), label=f\"{name} kinetic\")\n",
    "    plt.plot(t, total_energy(theta, omega), label=f\"{name} total\")"
   ]
  },
  {
   "cell_type": "markdown",
   "metadata": {},
   "source": [
    "## Part one, Euler method for different time-delta"
   ]
  },
  {
   "cell_type": "code",
   "execution_count": null,
   "metadata": {},
   "outputs": [],
   "source": [
    "# Using Euler's method\n",
    "\n",
    "def do_method(end_time, dt, solver=euler_solve, theta_0=theta_0, omega_0=omega_0):\n",
    "    \"\"\"Use method given end_time, dt\n",
    "    Returns:\n",
    "     t: array of times\n",
    "     y: 2D-array with [theta, omega]\"\"\"\n",
    "    num_iterations = int(np.ceil(end_time/dt))\n",
    "    y = np.zeros((num_iterations, 2))\n",
    "    y[0] = np.array([theta_0, omega_0])\n",
    "    y = solver(y, f, dt, num_iterations)\n",
    "    t = np.arange(0, end_time, dt)\n",
    "    \n",
    "    return t, y\n",
    "\n",
    "def analytical(t, theta_0=theta_0, omega_0=omega_0):\n",
    "    \"\"\"Analytical solution to small-angle approx. (ie. harm. osc.)\"\"\"\n",
    "    omega = np.sqrt(g/R) # Angular frequency\n",
    "    A = np.sqrt(theta_0**2 + (omega_0/omega)**2)\n",
    "    phi = np.arctan(-omega_0/(omega*theta_0))\n",
    "    return A*np.sin(omega*t + phi + np.pi/2)\n",
    "\n",
    "# Euler's method for different time deltas\n",
    "dt_list = [1e-4, 1e-3, 5e-3, 1e-2, 5e-2]\n",
    "y_euler_dt = {}\n",
    "for dt in dt_list:\n",
    "    y_euler_dt[dt] = do_method(end_time, dt)\n",
    "\n",
    "for i in range(len(dt_list)):\n",
    "    plt.subplot(len(dt_list), 2, 2*i+1)\n",
    "    dt = dt_list[i]\n",
    "    t = y_euler_dt[dt][0]\n",
    "    y = y_euler_dt[dt][1]\n",
    "    plt.title(f\"dt = {dt}\")\n",
    "    plt.plot(t, y[:,0], label=\"Numerical\")\n",
    "    t_n = np.linspace(0, end_time, 100)\n",
    "    plt.plot(t_n, analytical(t_n), label=\"Analytical\")\n",
    "    plt.legend()\n",
    "    \n",
    "    plt.subplot(len(dt_list), 2, 2*i+2)\n",
    "    plt_method_energy(t, y[:,0], y[:,1], \"Euler\")\n",
    "    plt.legend()\n",
    "    \n",
    "plt.tight_layout()"
   ]
  },
  {
   "cell_type": "markdown",
   "metadata": {},
   "source": [
    "We begin to see a serious deviation from energy conservation at dt=5e-3"
   ]
  },
  {
   "cell_type": "markdown",
   "metadata": {},
   "source": [
    "## Part two, more sophisticated methods"
   ]
  },
  {
   "cell_type": "code",
   "execution_count": null,
   "metadata": {},
   "outputs": [],
   "source": [
    "dt = 0.05\n",
    "\n",
    "y_dict = {}\n",
    "method_list = [euler_solve, euler_cromer_solve, rk4_solve]\n",
    "for method in method_list:\n",
    "    t, y_dict[method.__repr__()] = do_method(end_time, dt, method)"
   ]
  },
  {
   "cell_type": "markdown",
   "metadata": {},
   "source": [
    "## Let's do some plotting!!\n",
    "First is $\\omega(t)$ and energy for all methods"
   ]
  },
  {
   "cell_type": "code",
   "execution_count": null,
   "metadata": {},
   "outputs": [],
   "source": [
    "plt.title(\"$\\\\theta(t)$\")\n",
    "for method in method_list:\n",
    "    y = y_dict[method.__repr__()]\n",
    "    theta = y[:,0]\n",
    "    omega = y[:,1]\n",
    "    plt.plot(t, theta, label=method.__doc__)\n",
    "    plt.xlabel(\"t [s]\")\n",
    "    plt.ylabel(\"$\\\\theta(t)$ [rad]\")\n",
    "    plt.legend()\n",
    "    plt.show()\n",
    "    \n",
    "    plt_method_energy(t, theta, omega, method.__doc__)\n",
    "    plt.xlabel(\"t [s]\")\n",
    "    plt.ylabel(\"$E$ [J]\")\n",
    "    plt.legend()\n",
    "    plt.show()"
   ]
  },
  {
   "cell_type": "markdown",
   "metadata": {},
   "source": [
    "Plotted in phase space:"
   ]
  },
  {
   "cell_type": "code",
   "execution_count": null,
   "metadata": {},
   "outputs": [],
   "source": [
    "for method in method_list:\n",
    "    y = y_dict[method.__repr__()]\n",
    "    theta = y[:,0]\n",
    "    omega = y[:,1]\n",
    "    plt.plot(theta, omega, label=method.__doc__)\n",
    "    plt.xlabel(\"$\\\\theta$\")\n",
    "    plt.ylabel(\"$\\omega$\")\n",
    "    plt.legend()\n",
    "    plt.show()"
   ]
  }
 ],
 "metadata": {
  "kernelspec": {
   "display_name": "Python 3",
   "language": "python",
   "name": "python3"
  },
  "language_info": {
   "codemirror_mode": {
    "name": "ipython",
    "version": 3
   },
   "file_extension": ".py",
   "mimetype": "text/x-python",
   "name": "python",
   "nbconvert_exporter": "python",
   "pygments_lexer": "ipython3",
   "version": "3.7.3"
  }
 },
 "nbformat": 4,
 "nbformat_minor": 2
}
