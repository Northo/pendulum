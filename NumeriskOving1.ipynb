{
 "cells": [
  {
   "cell_type": "markdown",
   "metadata": {},
   "source": [
    "# Computational assignment 1"
   ]
  },
  {
   "cell_type": "code",
   "execution_count": null,
   "metadata": {},
   "outputs": [],
   "source": [
    "import numpy as np\n",
    "import matplotlib.pyplot as plt\n",
    "import scipy.integrate\n",
    "\n",
    "from nodepy import runge_kutta_method as rk, ivp"
   ]
  },
  {
   "cell_type": "code",
   "execution_count": null,
   "metadata": {},
   "outputs": [],
   "source": [
    "from matplotlib import rc\n",
    "# Set common figure parameters:\n",
    "newparams = {'axes.labelsize': 11, 'axes.linewidth': 1, 'savefig.dpi': 300, \n",
    "             'lines.linewidth': 1.0, 'figure.figsize': (15, 6),\n",
    "             'ytick.labelsize': 10, 'xtick.labelsize': 10,\n",
    "             'ytick.major.pad': 5, 'xtick.major.pad': 5,}\n",
    "plt.rcParams.update(newparams)"
   ]
  },
  {
   "cell_type": "code",
   "execution_count": null,
   "metadata": {},
   "outputs": [],
   "source": [
    "# Setup\n",
    "m = 1 #kg\n",
    "R = 1 #m\n",
    "g = 9.81 #m/s^2\n",
    "\n",
    "theta_0 = 0.2 # rad, inital angle\n",
    "omega_0 = 0.0 # rad/s, inital angular velocity\n",
    "\n",
    "end_time = 5 # s, the time at which the simulation will end\n",
    "#dt = 1e-2 # s, step size used in Euler's method"
   ]
  },
  {
   "cell_type": "markdown",
   "metadata": {},
   "source": [
    "The problem consists of two first-order differential equations:\n",
    "$$\n",
    "\\dot{\\theta} = \\omega\\\\\n",
    "\\dot{\\omega} = \\frac{F_{\\perp}}{mR}.\n",
    "$$\n",
    "\n",
    "Let \n",
    "$$\n",
    "y = \n",
    "\\begin{bmatrix}\n",
    "\\theta\\\\\n",
    "\\omega\n",
    "\\end{bmatrix},\n",
    "$$\n",
    "then\n",
    "$$\n",
    "y' = \n",
    "\\begin{bmatrix}\n",
    "y_2\\\\\n",
    "-\\sin(y_1) / mR\n",
    "\\end{bmatrix}\n",
    "= f(y).\n",
    "$$\n",
    "\n",
    "We will do the euler step:\n",
    "$$\n",
    "y(t+dt) = y(t) + f(y(t)) dt\n",
    "$$"
   ]
  },
  {
   "cell_type": "code",
   "execution_count": null,
   "metadata": {},
   "outputs": [],
   "source": [
    "def f(y):\n",
    "    \"\"\"f(y) = y'\n",
    "    \"\"\"\n",
    "    return np.array([y[1], -g*np.sin(y[0])/R])\n",
    "\n",
    "def f_time(t, y):\n",
    "    \"\"\"Wrapper for f(y) to comply with standardt call-signature in scipy\"\"\"\n",
    "    return f(y)"
   ]
  },
  {
   "cell_type": "code",
   "execution_count": null,
   "metadata": {},
   "outputs": [],
   "source": [
    "def euler_step(y, f, dt):\n",
    "    \"\"\"Returns an euler-approximation of y(t+dt) given y(t)\"\"\"\n",
    "    return y + f(y)*dt"
   ]
  },
  {
   "cell_type": "code",
   "execution_count": null,
   "metadata": {},
   "outputs": [],
   "source": [
    "def euler_solve(y, f, dt, num_iterations):\n",
    "    \"\"\"Solve using Euler's method\"\"\"\n",
    "    for i in range(num_iterations - 1):\n",
    "        y[i+1] = euler_step(y[i], f, dt)\n",
    "    return y\n",
    "\n",
    "def euler_cromer_solve(y, f, dt, num_iterations):\n",
    "    \"\"\"Solve using Euler-Cromer's method.\n",
    "    NB, this is not the most efficient impementation,\n",
    "    it is lazy, but simple as it reuses existing code\"\"\"\n",
    "    for i in range(num_iterations - 1):\n",
    "        theta, omega = euler_step(y[i], f, dt)\n",
    "        theta = y[i,0] + omega*dt\n",
    "        y[i+1] = np.array([theta, omega])\n",
    "    return y"
   ]
  },
  {
   "cell_type": "code",
   "execution_count": null,
   "metadata": {},
   "outputs": [],
   "source": [
    "def kinetic_energy(omega):\n",
    "    return 0.5*m*R**2*omega**2\n",
    "\n",
    "def potential_energy(theta):\n",
    "    return m*g*R*(1-np.cos(theta))\n",
    "\n",
    "def total_energy(y1, y2):\n",
    "    return kinetic_energy(y2) + potential_energy(y1)\n",
    "\n",
    "def plt_method_energy(t, theta, omega, name):\n",
    "    plt.plot(t, potential_energy(theta), label=f\"{name} potential\")\n",
    "    plt.plot(t, kinetic_energy(theta), label=f\"{name} kinetic\")\n",
    "    plt.plot(t, total_energy(theta, omega), label=f\"{name} total\")"
   ]
  },
  {
   "cell_type": "markdown",
   "metadata": {},
   "source": [
    "## Part one, Euler method for different time-delta"
   ]
  },
  {
   "cell_type": "code",
   "execution_count": null,
   "metadata": {},
   "outputs": [],
   "source": []
  },
  {
   "cell_type": "code",
   "execution_count": null,
   "metadata": {},
   "outputs": [],
   "source": [
    "an = lambda t: theta_0*np.cos(np.sqrt(g/R)*t)"
   ]
  },
  {
   "cell_type": "code",
   "execution_count": null,
   "metadata": {},
   "outputs": [],
   "source": [
    "# Using Euler's method\n",
    "\n",
    "def do_method(end_time, dt, solver=euler_solve, theta_0=theta_0, omega_0=omega_0):\n",
    "    \"\"\"Use method given end_time, dt\n",
    "    Returns:\n",
    "     t: array of times\n",
    "     y: 2D-array with [theta, omega]\"\"\"\n",
    "    num_iterations = int(np.ceil(end_time/dt))\n",
    "    y = np.zeros((num_iterations, 2))\n",
    "    y[0] = np.array([theta_0, omega_0])\n",
    "    y = solver(y, f, dt, num_iterations)\n",
    "    t = np.arange(0, end_time, dt)\n",
    "    \n",
    "    return t, y\n",
    "\n",
    "dt_list = [1e-4, 1e-3, 1e-2, 5e-2]\n",
    "y_euler_dt = {}\n",
    "for dt in dt_list:\n",
    "    y_euler_dt[dt] = do_method(end_time, dt)"
   ]
  },
  {
   "cell_type": "code",
   "execution_count": null,
   "metadata": {},
   "outputs": [],
   "source": [
    "for i in range(len(dt_list)):\n",
    "    plt.subplot(f\"{len(dt_list)}2{2*i+1}\")\n",
    "    dt = dt_list[i]\n",
    "    t = y_euler_dt[dt][0]\n",
    "    y = y_euler_dt[dt][1]\n",
    "    plt.title(f\"dt = {dt}\")\n",
    "    plt.plot(t, y[:,0], label=\"Theta\")\n",
    "    t_n = np.linspace(0, end_time, 100)\n",
    "    plt.plot(t_n, an(t_n), label=\"Analytical\")\n",
    "    plt.legend()\n",
    "    \n",
    "    plt.subplot(f\"{len(dt_list)}2{2*i+2}\")\n",
    "    plt_method_energy(t, y[:,0], y[:,1], \"Euler\")\n",
    "    \n",
    "plt.tight_layout()"
   ]
  },
  {
   "cell_type": "code",
   "execution_count": null,
   "metadata": {},
   "outputs": [],
   "source": [
    "# Using Euler-Cromer's method\n",
    "t, y = do_method(end_time, 0.01, euler_cromer_solve)\n",
    "\n",
    "plt.plot(t, y[:,0])"
   ]
  },
  {
   "cell_type": "code",
   "execution_count": null,
   "metadata": {},
   "outputs": [],
   "source": [
    "# Using RK45\n",
    "sol_RK45 = scipy.integrate.solve_ivp(f_time, [0.0, end_time*100], [theta_0, omega_0])\n",
    "y_rk45 = sol_RK45.y\n",
    "t_rk45 = sol_RK45.t"
   ]
  },
  {
   "cell_type": "code",
   "execution_count": null,
   "metadata": {},
   "outputs": [],
   "source": [
    "plt_method_energy(t_rk45, y_rk45[0], y_rk45[1], \"RK45\")"
   ]
  },
  {
   "cell_type": "code",
   "execution_count": null,
   "metadata": {},
   "outputs": [],
   "source": [
    "plt.plot(t_rk45, y_rk45[0])"
   ]
  },
  {
   "cell_type": "markdown",
   "metadata": {},
   "source": [
    "## Let's do some plotting!!\n",
    "First is $\\omega(t)$ for all methods"
   ]
  },
  {
   "cell_type": "code",
   "execution_count": null,
   "metadata": {},
   "outputs": [],
   "source": [
    "plt.title(\"$\\\\theta(t)$\")\n",
    "plt.plot(t_euler, y_euler[:,0], label=\"Euler\")\n",
    "plt.plot(t_euler, y_euler_cromer[:,0], label=\"Euler-Cromer\")\n",
    "plt.plot(t_rk45, y_rk45[0], label=\"RK45\")\n",
    "plt.xlabel(\"t [s]\")\n",
    "plt.ylabel(\"$\\\\theta(t)$ [rad]\")\n",
    "plt.legend()\n",
    "plt.show()"
   ]
  },
  {
   "cell_type": "code",
   "execution_count": null,
   "metadata": {},
   "outputs": [],
   "source": [
    "\n",
    "\n",
    "plt.title(\"$~v^2$\")\n",
    "plt.subplot(\"311\")\n",
    "plt_method_energy(t_euler, y_euler[:,0], y_euler[:,1], \"Euler\")\n",
    "plt.subplot(\"312\")\n",
    "plt_method_energy(t_euler, y_euler_cromer[:,0], y_euler_cromer[:,1], \"Euler-Cromer\")\n",
    "plt.subplot(\"313\")\n",
    "plt_method_energy(t_rk45, y_rk45[0], y_rk45[1], \"RK45\")\n",
    "\n",
    "plt.show()"
   ]
  },
  {
   "cell_type": "markdown",
   "metadata": {},
   "source": [
    "It is interesting to look at the time-development of $v^2 \\propto T$ as this sould be time-constant."
   ]
  },
  {
   "cell_type": "markdown",
   "metadata": {},
   "source": [
    "Plotted in phase space:"
   ]
  },
  {
   "cell_type": "code",
   "execution_count": null,
   "metadata": {},
   "outputs": [],
   "source": [
    "plt.plot(y_euler[:,0], y_euler[:,1], label=\"Euler\")\n",
    "plt.plot(y_euler_cromer[:,0], y_euler_cromer[:,1], label=\"Euler-Cromer\")\n",
    "plt.plot(y_rk45[0], y_rk45[1], label=\"RK45\")\n",
    "plt.xlabel(\"$\\\\theta$\")\n",
    "plt.ylabel(\"$\\omega$\")\n",
    "plt.legend()\n",
    "plt.show()"
   ]
  },
  {
   "cell_type": "code",
   "execution_count": null,
   "metadata": {},
   "outputs": [],
   "source": [
    "from matplotlib.animation import FuncAnimation\n",
    "from IPython.display import HTML\n",
    "\n",
    "# Set up the figure\n",
    "fig = plt.figure(figsize=(4, 4), dpi=60)\n",
    "ax = plt.axes(xlim=(-1.1*R, 1.1*R), ylim=(-1.1*R, 0.1*R))\n",
    "ax.set_aspect('equal')\n",
    "\n",
    "pend, = ax.plot([0, np.sin(y_euler[0,0])*R], [0, -np.cos(y_euler[0,0])*R])\n",
    "ball, = ax.plot([np.sin(y_euler[0,0])*R], [-np.cos(y_euler[0,0])*R], 'o', markersize=10)\n",
    "\n",
    "def animate(y):\n",
    "    pend.set_data([0, np.sin(y)*R], [0, -np.cos(y)*R])\n",
    "    ball.set_data([np.sin(y)*R], [-np.cos(y)*R])\n",
    "    \n",
    "anim = FuncAnimation(fig, animate, interval=1000*dt, frames=y_euler[:,0])\n",
    "\n",
    "\n",
    "plt.close(anim._fig)\n",
    "HTML(anim.to_html5_video())"
   ]
  },
  {
   "cell_type": "code",
   "execution_count": null,
   "metadata": {},
   "outputs": [],
   "source": []
  }
 ],
 "metadata": {
  "kernelspec": {
   "display_name": "Python 3",
   "language": "python",
   "name": "python3"
  },
  "language_info": {
   "codemirror_mode": {
    "name": "ipython",
    "version": 3
   },
   "file_extension": ".py",
   "mimetype": "text/x-python",
   "name": "python",
   "nbconvert_exporter": "python",
   "pygments_lexer": "ipython3",
   "version": "3.7.3"
  }
 },
 "nbformat": 4,
 "nbformat_minor": 2
}
